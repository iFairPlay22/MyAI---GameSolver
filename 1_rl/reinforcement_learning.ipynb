{
 "cells": [
  {
   "cell_type": "markdown",
   "metadata": {},
   "source": [
    "# Resolve simple games using Reinforcement Learning"
   ]
  },
  {
   "cell_type": "markdown",
   "metadata": {},
   "source": [
    "#### Loading required libraries"
   ]
  },
  {
   "cell_type": "code",
   "execution_count": 1,
   "metadata": {},
   "outputs": [
    {
     "name": "stdout",
     "output_type": "stream",
     "text": [
      "Defaulting to user installation because normal site-packages is not writeable\n",
      "\u001b[33mWARNING: Ignoring invalid distribution -ensorflow (/Users/ewenbouquet/Library/Python/3.9/lib/python/site-packages)\u001b[0m\u001b[33m\n",
      "\u001b[0m\u001b[33mWARNING: Ignoring invalid distribution -ip (/Users/ewenbouquet/Library/Python/3.9/lib/python/site-packages)\u001b[0m\u001b[33m\n",
      "\u001b[0mRequirement already satisfied: numpy==1.26.4 in /Users/ewenbouquet/Library/Python/3.9/lib/python/site-packages (1.26.4)\n",
      "Requirement already satisfied: matplotlib==3.8.4 in /Users/ewenbouquet/Library/Python/3.9/lib/python/site-packages (3.8.4)\n",
      "Requirement already satisfied: gym==0.26.2 in /Users/ewenbouquet/Library/Python/3.9/lib/python/site-packages (0.26.2)\n",
      "Requirement already satisfied: tqdm==4.66.2 in /Users/ewenbouquet/Library/Python/3.9/lib/python/site-packages (4.66.2)\n",
      "Requirement already satisfied: pygame==2.5.2 in /Users/ewenbouquet/Library/Python/3.9/lib/python/site-packages (2.5.2)\n",
      "Requirement already satisfied: contourpy>=1.0.1 in /Users/ewenbouquet/Library/Python/3.9/lib/python/site-packages (from matplotlib==3.8.4) (1.2.1)\n",
      "Requirement already satisfied: cycler>=0.10 in /Users/ewenbouquet/Library/Python/3.9/lib/python/site-packages (from matplotlib==3.8.4) (0.12.1)\n",
      "Requirement already satisfied: fonttools>=4.22.0 in /Users/ewenbouquet/Library/Python/3.9/lib/python/site-packages (from matplotlib==3.8.4) (4.51.0)\n",
      "Requirement already satisfied: kiwisolver>=1.3.1 in /Users/ewenbouquet/Library/Python/3.9/lib/python/site-packages (from matplotlib==3.8.4) (1.4.5)\n",
      "Requirement already satisfied: packaging>=20.0 in /Users/ewenbouquet/Library/Python/3.9/lib/python/site-packages (from matplotlib==3.8.4) (24.0)\n",
      "Requirement already satisfied: pillow>=8 in /Users/ewenbouquet/Library/Python/3.9/lib/python/site-packages (from matplotlib==3.8.4) (10.3.0)\n",
      "Requirement already satisfied: pyparsing>=2.3.1 in /Users/ewenbouquet/Library/Python/3.9/lib/python/site-packages (from matplotlib==3.8.4) (3.1.2)\n",
      "Requirement already satisfied: python-dateutil>=2.7 in /Users/ewenbouquet/Library/Python/3.9/lib/python/site-packages (from matplotlib==3.8.4) (2.9.0.post0)\n",
      "Requirement already satisfied: importlib-resources>=3.2.0 in /Users/ewenbouquet/Library/Python/3.9/lib/python/site-packages (from matplotlib==3.8.4) (6.4.0)\n",
      "Requirement already satisfied: cloudpickle>=1.2.0 in /Users/ewenbouquet/Library/Python/3.9/lib/python/site-packages (from gym==0.26.2) (3.0.0)\n",
      "Requirement already satisfied: gym-notices>=0.0.4 in /Users/ewenbouquet/Library/Python/3.9/lib/python/site-packages (from gym==0.26.2) (0.0.8)\n",
      "Requirement already satisfied: importlib-metadata>=4.8.0 in /Users/ewenbouquet/Library/Python/3.9/lib/python/site-packages (from gym==0.26.2) (7.1.0)\n",
      "Requirement already satisfied: zipp>=0.5 in /Users/ewenbouquet/Library/Python/3.9/lib/python/site-packages (from importlib-metadata>=4.8.0->gym==0.26.2) (3.18.1)\n",
      "Requirement already satisfied: six>=1.5 in /Library/Developer/CommandLineTools/Library/Frameworks/Python3.framework/Versions/3.9/lib/python3.9/site-packages (from python-dateutil>=2.7->matplotlib==3.8.4) (1.15.0)\n",
      "\u001b[33mWARNING: Ignoring invalid distribution -ensorflow (/Users/ewenbouquet/Library/Python/3.9/lib/python/site-packages)\u001b[0m\u001b[33m\n",
      "\u001b[0m\u001b[33mWARNING: Ignoring invalid distribution -ip (/Users/ewenbouquet/Library/Python/3.9/lib/python/site-packages)\u001b[0m\u001b[33m\n",
      "\u001b[0m"
     ]
    },
    {
     "name": "stderr",
     "output_type": "stream",
     "text": [
      "/Users/ewenbouquet/Library/Python/3.9/lib/python/site-packages/urllib3/__init__.py:35: NotOpenSSLWarning: urllib3 v2 only supports OpenSSL 1.1.1+, currently the 'ssl' module is compiled with 'LibreSSL 2.8.3'. See: https://github.com/urllib3/urllib3/issues/3020\n",
      "  warnings.warn(\n"
     ]
    }
   ],
   "source": [
    "# Tested with python 3.9.6\n",
    "!pip3 install numpy\"==1.26.4\" matplotlib==\"3.8.4\" gym\"==0.26.2\" tqdm\"==4.66.2\" pygame\"==2.5.2\" \n",
    "import numpy as np\n",
    "import gym\n",
    "import matplotlib.pyplot as plt\n",
    "from tqdm import tqdm\n",
    "import pickle\n",
    "import pygame"
   ]
  },
  {
   "cell_type": "markdown",
   "metadata": {},
   "source": [
    "#### Analysing our environment"
   ]
  },
  {
   "cell_type": "code",
   "execution_count": 2,
   "metadata": {},
   "outputs": [
    {
     "name": "stdout",
     "output_type": "stream",
     "text": [
      "16 states\n",
      "4 actions\n"
     ]
    }
   ],
   "source": [
    "def create_env(show: bool):\n",
    "    if (show):\n",
    "        return gym.make('FrozenLake-v1', render_mode=\"human\")\n",
    "    else:\n",
    "        return gym.make('FrozenLake-v1')\n",
    "\n",
    "env = create_env(show = False)\n",
    "print(f\"{env.observation_space.n} states\")\n",
    "print(f\"{env.action_space.n} actions\")\n",
    "env.close()"
   ]
  },
  {
   "cell_type": "code",
   "execution_count": 3,
   "metadata": {},
   "outputs": [],
   "source": [
    "def play_with_random_actions():\n",
    "    env = create_env(show = True)\n",
    "    \n",
    "    rewards = 0\n",
    "    env.reset()\n",
    "    done = False\n",
    "    while not done:\n",
    "        env.render()\n",
    "        \n",
    "        action = env.action_space.sample()\n",
    "        _, reward, terminated, truncated, _ = env.step(action)\n",
    "        done = terminated or truncated\n",
    "\n",
    "        rewards += reward\n",
    "\n",
    "    print(f\"Reward is {rewards}\")\n",
    "\n",
    "    env.close()\n",
    "\n",
    "# play_with_random_actions()"
   ]
  },
  {
   "cell_type": "markdown",
   "metadata": {},
   "source": [
    "#### Training (optional)"
   ]
  },
  {
   "cell_type": "code",
   "execution_count": 4,
   "metadata": {},
   "outputs": [],
   "source": [
    "class RLAgent():\n",
    "\n",
    "    def __init__(self, q_table_path = None):\n",
    "\n",
    "        env = create_env(show = False)\n",
    "        self.state_size =  env.observation_space.n\n",
    "        self.action_size = env.action_space.n \n",
    "\n",
    "        # parameters and hyperparameters\n",
    "        self.episodes_nb = 2000000\n",
    "        self.alpha = 0.8\n",
    "        self.gamma = 0.95\n",
    "\n",
    "        # this part is for epsilon()\n",
    "        self.epsilon_max = 1\n",
    "        self.epsilon_min = 0.1\n",
    "        self.epsilon_decay_factor = (self.epsilon_min / self.epsilon_max) ** (1 / self.episodes_nb)\n",
    "\n",
    "        if q_table_path:\n",
    "          print(f\"Loading pre-trained q_table {q_table_path}\")\n",
    "          self.q_table = self.load_q_table(q_table_path)\n",
    "        else:\n",
    "          print(f\"Loading new q_table\")\n",
    "          self.q_table = np.zeros([env.observation_space.n, env.action_space.n])\n",
    "\n",
    "    # computes the epsilon value to use for a dedicated episode\n",
    "    def epsilon(self, episode):\n",
    "        return self.epsilon_max * self.epsilon_decay_factor ** episode\n",
    "    \n",
    "    # computes the action to do: acting, exploit or explore\n",
    "    def act(self, env, state, episode):\n",
    "      if np.random.uniform(0,1) < self.epsilon(episode):\n",
    "        return env.action_space.sample()\n",
    "      else:\n",
    "        return np.argmax(self.q_table[state, :])\n",
    "      \n",
    "    def train_with(self, state, action, reward, next_state):\n",
    "      self.q_table[state, action] += self.alpha * (reward + self.gamma * np.max(self.q_table[next_state, :]) - self.q_table[state, action])\n",
    "    \n",
    "    def save_q_table(self, path):\n",
    "      with open(path, \"wb\") as f:\n",
    "          pickle.dump(self.q_table, f)\n",
    "\n",
    "    def load_q_table(self, path):\n",
    "      with open(path, \"rb\") as f:\n",
    "          return pickle.load(f)"
   ]
  },
  {
   "cell_type": "code",
   "execution_count": 5,
   "metadata": {},
   "outputs": [
    {
     "name": "stdout",
     "output_type": "stream",
     "text": [
      "Loading new q_table\n"
     ]
    },
    {
     "data": {
      "image/png": "[encoded data removed]",
      "text/plain": [
       "<Figure size 640x480 with 1 Axes>"
      ]
     },
     "metadata": {},
     "output_type": "display_data"
    }
   ],
   "source": [
    "def display_epsilon_strategy():\n",
    "    agent = RLAgent()\n",
    "\n",
    "    epsilons = [ agent.epsilon(episode) for episode in range(agent.episodes_nb) ]\n",
    "\n",
    "    plt.plot(epsilons)\n",
    "    plt.xlabel(\"Episodes\")\n",
    "    plt.ylabel(\"Epsilon\")\n",
    "    plt.show()\n",
    "\n",
    "display_epsilon_strategy()"
   ]
  },
  {
   "cell_type": "code",
   "execution_count": 6,
   "metadata": {},
   "outputs": [],
   "source": [
    "def display_observations(rewards, by):\n",
    "    rewards_mean = [ np.mean(rewards[i : i + by]) for i in range(0, len(rewards), by) for _ in range(by) ]\n",
    "    \n",
    "    fig = plt.figure(1)\n",
    "    plt.plot(rewards_mean)\n",
    "    plt.xlabel(\"Episodes\")\n",
    "    plt.ylabel(\"Rewards\")\n",
    "    plt.show()\n",
    "    \n",
    "    return fig"
   ]
  },
  {
   "cell_type": "code",
   "execution_count": 7,
   "metadata": {},
   "outputs": [],
   "source": [
    "def train(start_episode, end_episode, update_offset):\n",
    "\n",
    "    # initialize env\n",
    "    env = create_env(show = False)\n",
    "\n",
    "    # initialize agent\n",
    "    if start_episode > 0:\n",
    "        agent = RLAgent(q_table_path = f\"results/q_table_e{start_episode - 1}.rl\")\n",
    "    else:\n",
    "        agent = RLAgent(q_table_path = None)\n",
    "        \n",
    "    # Verify arguments validity\n",
    "    assert(0 <= start_episode)\n",
    "    assert(end_episode <= agent.episodes_nb)\n",
    "    assert(0 < update_offset < end_episode - start_episode)\n",
    "\n",
    "    # evaluation array\n",
    "    total_rewards = list()\n",
    "\n",
    "    for episode in tqdm(range(start_episode, end_episode + 1, 1)):\n",
    "\n",
    "        # initialize environment\n",
    "        state, _ = env.reset()\n",
    "        rewards = 0\n",
    "        done = False\n",
    "\n",
    "        while not done:\n",
    "\n",
    "            # act\n",
    "            action = agent.act(env, state, episode)\n",
    "\n",
    "            # step\n",
    "            next_state, reward, terminated, truncated, _ = env.step(action)\n",
    "            done = terminated or truncated\n",
    "            \n",
    "            # storage\n",
    "            agent.train_with(state, action, reward, next_state)\n",
    "\n",
    "            # update state, reward and steps\n",
    "            state = next_state\n",
    "            rewards += reward\n",
    "            \n",
    "        total_rewards.append(rewards)\n",
    "\n",
    "        ## Plot reward vs episodes\n",
    "        if (episode != 0 and episode % update_offset == 0):\n",
    "            fig = display_observations(total_rewards[0 : episode - start_episode + 1], (end_episode - start_episode) // 25)\n",
    "            fig.savefig(\"results/rewards.png\")\n",
    "            agent.save_q_table(f\"results/q_table_e{episode}.rl\")\n",
    "    \n",
    "    agent.save_q_table(\"results/q_table.rl\")\n",
    "    env.close()\n",
    "    \n",
    "    return agent\n",
    "\n",
    "# agent = train(start_episode = 1000001, end_episode = 2000000, update_offset = 25000)"
   ]
  },
  {
   "cell_type": "markdown",
   "metadata": {},
   "source": [
    "#### Play with our trained agent (optional)"
   ]
  },
  {
   "cell_type": "code",
   "execution_count": 8,
   "metadata": {},
   "outputs": [
    {
     "name": "stdout",
     "output_type": "stream",
     "text": [
      "Loading pre-trained q_table results/q_table.rl\n"
     ]
    }
   ],
   "source": [
    "agent = RLAgent(\"results/q_table.rl\")"
   ]
  },
  {
   "cell_type": "code",
   "execution_count": 9,
   "metadata": {},
   "outputs": [
    {
     "name": "stderr",
     "output_type": "stream",
     "text": [
      "/Users/ewenbouquet/Library/Python/3.9/lib/python/site-packages/gym/utils/passive_env_checker.py:233: DeprecationWarning: `np.bool8` is a deprecated alias for `np.bool_`.  (Deprecated NumPy 1.24)\n",
      "  if not isinstance(terminated, (bool, np.bool8)):\n",
      "2024-05-23 10:14:51.182 Python[55516:1686178] WARNING: Secure coding is automatically enabled for restorable state! However, not on all supported macOS versions of this application. Opt-in to secure coding explicitly by implementing NSApplicationDelegate.applicationSupportsSecureRestorableState:.\n"
     ]
    },
    {
     "name": "stdout",
     "output_type": "stream",
     "text": [
      "Reward is 0.0\n"
     ]
    }
   ],
   "source": [
    "def play_with_rl(agent):\n",
    "    env = create_env(show = True)\n",
    "\n",
    "    rewards = 0\n",
    "    state, _ = env.reset()\n",
    "    done = False\n",
    "    while not done:\n",
    "        env.render()\n",
    "\n",
    "        action = np.argmax(agent.q_table[state, :])\n",
    "        next_state, reward, terminated, truncated, _ = env.step(action)\n",
    "        done = terminated or truncated\n",
    "\n",
    "        rewards += reward\n",
    "        state = next_state\n",
    "        \n",
    "    print(f\"Reward is {rewards}\")\n",
    "    env.close()\n",
    "\n",
    "play_with_rl(agent)"
   ]
  },
  {
   "cell_type": "code",
   "execution_count": 10,
   "metadata": {},
   "outputs": [
    {
     "ename": "",
     "evalue": "",
     "output_type": "error",
     "traceback": [
      "\u001b[1;31mThe Kernel crashed while executing code in the current cell or a previous cell. \n",
      "\u001b[1;31mPlease review the code in the cell(s) to identify a possible cause of the failure. \n",
      "\u001b[1;31mClick <a href='https://aka.ms/vscodeJupyterKernelCrash'>here</a> for more info. \n",
      "\u001b[1;31mView Jupyter <a href='command:jupyter.viewOutput'>log</a> for further details."
     ]
    }
   ],
   "source": [
    "pygame.quit()"
   ]
  }
 ],
 "metadata": {
  "kernelspec": {
   "display_name": "Python 3",
   "language": "python",
   "name": "python3"
  },
  "language_info": {
   "codemirror_mode": {
    "name": "ipython",
    "version": 3
   },
   "file_extension": ".py",
   "mimetype": "text/x-python",
   "name": "python",
   "nbconvert_exporter": "python",
   "pygments_lexer": "ipython3",
   "version": "3.9.6"
  }
 },
 "nbformat": 4,
 "nbformat_minor": 2
}
